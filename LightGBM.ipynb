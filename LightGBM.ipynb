{
  "nbformat": 4,
  "nbformat_minor": 0,
  "metadata": {
    "colab": {
      "provenance": []
    },
    "kernelspec": {
      "name": "python3",
      "display_name": "Python 3"
    },
    "language_info": {
      "name": "python"
    }
  },
  "cells": [
    {
      "cell_type": "code",
      "execution_count": 5,
      "metadata": {
        "colab": {
          "base_uri": "https://localhost:8080/"
        },
        "id": "YgJsh7Q2Q9-8",
        "outputId": "914f19e0-e373-4f37-ad4b-d9a3cb0ae7c9"
      },
      "outputs": [
        {
          "output_type": "stream",
          "name": "stdout",
          "text": [
            "Training until validation scores don't improve for 10 rounds\n",
            "Early stopping, best iteration is:\n",
            "[21]\tvalid_0's binary_logloss: 0.160772\n",
            "Accuracy: 0.9500978473581213\n",
            "\n",
            "Classification Report:\n",
            "\n",
            "              precision    recall  f1-score   support\n",
            "\n",
            "           0       0.95      1.00      0.97       972\n",
            "           1       0.33      0.02      0.04        50\n",
            "\n",
            "    accuracy                           0.95      1022\n",
            "   macro avg       0.64      0.51      0.51      1022\n",
            "weighted avg       0.92      0.95      0.93      1022\n",
            "\n"
          ]
        },
        {
          "output_type": "stream",
          "name": "stderr",
          "text": [
            "<ipython-input-5-07714a97b522>:14: FutureWarning: A value is trying to be set on a copy of a DataFrame or Series through chained assignment using an inplace method.\n",
            "The behavior will change in pandas 3.0. This inplace method will never work because the intermediate object on which we are setting values always behaves as a copy.\n",
            "\n",
            "For example, when doing 'df[col].method(value, inplace=True)', try using 'df.method({col: value}, inplace=True)' or df[col] = df[col].method(value) instead, to perform the operation inplace on the original object.\n",
            "\n",
            "\n",
            "  df['bmi'].fillna(df['bmi'].median(), inplace=True)\n"
          ]
        }
      ],
      "source": [
        "import pandas as pd\n",
        "import lightgbm as lgb\n",
        "from sklearn.model_selection import train_test_split\n",
        "from sklearn.preprocessing import LabelEncoder\n",
        "from sklearn.metrics import accuracy_score, classification_report\n",
        "\n",
        "# Load dataset\n",
        "df = pd.read_csv(r\"healthcare-dataset-stroke-data.csv\")\n",
        "\n",
        "# Drop 'id' column\n",
        "df.drop(columns=['id'], inplace=True)\n",
        "\n",
        "# Fill missing values in 'bmi'\n",
        "df['bmi'].fillna(df['bmi'].median(), inplace=True)\n",
        "\n",
        "# Encode categorical columns\n",
        "categorical_cols = df.select_dtypes(include='object').columns\n",
        "for col in categorical_cols:\n",
        "    df[col] = LabelEncoder().fit_transform(df[col])\n",
        "\n",
        "# Features and target\n",
        "X = df.drop(columns=['stroke'])\n",
        "y = df['stroke']\n",
        "\n",
        "# Train-test split\n",
        "X_train, X_test, y_train, y_test = train_test_split(\n",
        "    X, y, test_size=0.2, random_state=42, stratify=y\n",
        ")\n",
        "\n",
        "# Create LightGBM datasets\n",
        "train_data = lgb.Dataset(X_train, label=y_train)\n",
        "test_data = lgb.Dataset(X_test, label=y_test, reference=train_data)\n",
        "\n",
        "# Set parameters\n",
        "params = {\n",
        "    'objective': 'binary',\n",
        "    'metric': 'binary_logloss',\n",
        "    'verbosity': -1\n",
        "}\n",
        "\n",
        "# Train model\n",
        "model = lgb.train(\n",
        "    params,\n",
        "    train_data,\n",
        "    valid_sets=[test_data],\n",
        "    num_boost_round=100,\n",
        "    callbacks=[lgb.early_stopping(stopping_rounds=10)]\n",
        ")\n",
        "\n",
        "# Predict and evaluate\n",
        "y_pred_prob = model.predict(X_test, num_iteration=model.best_iteration)\n",
        "y_pred_label = (y_pred_prob >= 0.5).astype(int)\n",
        "\n",
        "# Print results\n",
        "print(\"Accuracy:\", accuracy_score(y_test, y_pred_label))\n",
        "print(\"\\nClassification Report:\\n\")\n",
        "print(classification_report(y_test, y_pred_label))\n"
      ]
    },
    {
      "cell_type": "code",
      "source": [],
      "metadata": {
        "id": "KfR2XC26RmlE"
      },
      "execution_count": null,
      "outputs": []
    }
  ]
}